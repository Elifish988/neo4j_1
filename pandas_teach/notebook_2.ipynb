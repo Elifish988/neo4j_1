{
 "cells": [
  {
   "metadata": {},
   "cell_type": "code",
   "outputs": [],
   "execution_count": null,
   "source": "",
   "id": "70468ce2ed947542"
  },
  {
   "metadata": {
    "jupyter": {
     "is_executing": true
    }
   },
   "cell_type": "code",
   "source": "import pandas as pd",
   "id": "833652815c002ec9",
   "outputs": [],
   "execution_count": null
  },
  {
   "cell_type": "code",
   "execution_count": null,
   "id": "initial_id",
   "metadata": {
    "collapsed": true
   },
   "outputs": [],
   "source": "url = 'https://s3.eu-west-1.amazonaws.com/data.cyber.org.il/virtual_courses/introdata/colab/youth_survey_preprocessed.csv'"
  },
  {
   "metadata": {},
   "cell_type": "code",
   "outputs": [],
   "execution_count": null,
   "source": "df = pd.read_csv(url)",
   "id": "648dc4b0b3df9d2a"
  },
  {
   "metadata": {},
   "cell_type": "code",
   "outputs": [],
   "execution_count": null,
   "source": [
    "\"\"\"\n",
    "חקרו את הדאטה, כדי שאתם תבינו במה מדובר\n",
    "\"\"\""
   ],
   "id": "4b1fc8038a806035"
  },
  {
   "metadata": {},
   "cell_type": "code",
   "outputs": [],
   "execution_count": null,
   "source": "# בלוק לחקירות",
   "id": "d2ef7bfe7361b100"
  },
  {
   "metadata": {},
   "cell_type": "code",
   "outputs": [],
   "execution_count": null,
   "source": [
    "# אם רושמים את זה אז רואים את הטבלה בלי חיתוכים וקיטועים\n",
    "pd.options.display.max_columns = None\n",
    "pd.options.display.max_colwidth = None"
   ],
   "id": "78eb33c0e08badb6"
  },
  {
   "metadata": {},
   "cell_type": "code",
   "outputs": [],
   "execution_count": null,
   "source": [
    "\"\"\"\n",
    "מצא את כל הרשומות המתייחסות לנערים ונערות בגיל 18 שאוהבים אופרה ( כלומר נתנו ציון 5 בקטגוריה אופרה).\n",
    " כמה כאלה מצאת? \n",
    " כמה מהם בנים וכמה בנות?\n",
    "  לאיזה סוג מוזיקה נוסף מלבד אופרה הן נתנו ציון 5?\n",
    "   האם הם נוטים לחשוב קדימה? \n",
    "   (Thinking ahead)\n",
    "    האם הם נוטים להוציא כסף על טיפוח המראה (Spending on looks)?\n",
    "\"\"\""
   ],
   "id": "b183f749ebe12865"
  },
  {
   "metadata": {},
   "cell_type": "code",
   "outputs": [],
   "execution_count": null,
   "source": "# פתרון 1",
   "id": "324ce0fc9d1a8a9f"
  },
  {
   "metadata": {},
   "cell_type": "code",
   "outputs": [],
   "execution_count": null,
   "source": [
    "\"\"\"\n",
    "מצא מהם עשרת הערכים הגבוהים ביותר בעמודת מספר האחים (Number of siblings).\n",
    " בדוק לגבי הרשומות האלו, כמה מהמשיבים מעשנים.\n",
    "\"\"\""
   ],
   "id": "d3e85d17d9bb4042"
  },
  {
   "metadata": {},
   "cell_type": "code",
   "outputs": [],
   "execution_count": null,
   "source": "# פתרון 2",
   "id": "7f2f144b89cd8e5d"
  },
  {
   "metadata": {},
   "cell_type": "code",
   "outputs": [],
   "execution_count": null,
   "source": [
    "\"\"\"\n",
    "עומדים להפיק פרסומת שמטרתה לעודד גמילה מעישון.\n",
    " הפרסומת מופנית לכאלו שמגדירים את עצמם מעשנים בהווה או בעבר.\n",
    "  כעת יש צורך להכריע האם ילווה את הפרסומת ג'ינגל בסגנון פופ או רוק.\n",
    "עבור הנשאלים שבקטגורית smoking השיבו current smoker או former smoker, אילו מהסגנונות (Pop או Rock) יותר פופולרי? \n",
    "כדי להכריע איזה סגנון יותר פופולרי, השווה את מספר המשיבים שדירגו אותו ברמה 4 ומעלה.\n",
    "סיכום ההנחיות:\n",
    "\"\"\""
   ],
   "id": "82b28db9e3694e39"
  },
  {
   "metadata": {},
   "cell_type": "code",
   "outputs": [],
   "execution_count": null,
   "source": "# בחר את השורות בהן הערך של Smoking הוא current smoker או former smoker",
   "id": "6647c152009c6c99"
  },
  {
   "metadata": {},
   "cell_type": "code",
   "outputs": [],
   "execution_count": null,
   "source": "# בתוך השורות שבחרת בסעיף 1, בדוק כמה שורות יש בהן הערך של העמודה Pop הוא 4 ומעלה",
   "id": "bcf7769acb151559"
  },
  {
   "metadata": {},
   "cell_type": "code",
   "outputs": [],
   "execution_count": null,
   "source": "# בתוך השורות שבחרת בסעיף 1, בדוק כמה שורות יש בהן הערך של העמודה Rock הוא 4 ומעלה",
   "id": "8df232b6fd26b80c"
  },
  {
   "metadata": {},
   "cell_type": "code",
   "outputs": [],
   "execution_count": null,
   "source": "# הסגנון שיוכרז כפופולרי יותר, הוא זה שמספר השורות שהתקבל עבורו גדול יותר",
   "id": "2f720935f1d8b7d4"
  },
  {
   "metadata": {},
   "cell_type": "code",
   "outputs": [],
   "execution_count": null,
   "source": "# על בסיס המידע שהתקבל, מהו הסגנון המוזיקלי המועדף בקרב צעירים המעשנים?\n",
   "id": "aabc096cf5e90193"
  }
 ],
 "metadata": {
  "kernelspec": {
   "display_name": "Python 3",
   "language": "python",
   "name": "python3"
  },
  "language_info": {
   "codemirror_mode": {
    "name": "ipython",
    "version": 2
   },
   "file_extension": ".py",
   "mimetype": "text/x-python",
   "name": "python",
   "nbconvert_exporter": "python",
   "pygments_lexer": "ipython2",
   "version": "2.7.6"
  }
 },
 "nbformat": 4,
 "nbformat_minor": 5
}
